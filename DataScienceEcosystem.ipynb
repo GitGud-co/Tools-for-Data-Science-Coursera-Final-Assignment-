{
 "cells": [
  {
   "cell_type": "markdown",
   "id": "9b9d13b0-da96-4be1-97af-231befea3680",
   "metadata": {},
   "source": [
    "# Data Science Tools and Ecosystem"
   ]
  },
  {
   "cell_type": "markdown",
   "id": "45a87ae4-2ed1-4822-a0f9-377ae48721d6",
   "metadata": {},
   "source": [
    "In this notebook, Data Science Tools and Ecosystem are summarized."
   ]
  },
  {
   "cell_type": "markdown",
   "id": "98c7d038-4b6f-4a1a-9ac3-707c0d448f70",
   "metadata": {},
   "source": [
    "**Objectives:**\n",
    "* List popular languages for Data Science\n",
    "* List commonly used libraries for Data Science\n",
    "* List popular development environment for Data Science\n",
    "* Example of simple arithmetic expression to mutiply then add integers\n",
    "* Example of converting minutes to hours"
   ]
  },
  {
   "cell_type": "markdown",
   "id": "e574f8ca-d3a9-49da-b911-23cab23d517b",
   "metadata": {},
   "source": [
    "Some of the popular languages that Data Scientists use are:\n",
    "1. Julia\n",
    "2. Python\n",
    "3. R\n",
    "4. C++\n",
    "5. Scala\n",
    "6. Java"
   ]
  },
  {
   "cell_type": "markdown",
   "id": "75a18a54-d91e-4405-96a2-cc05f36bbf17",
   "metadata": {},
   "source": [
    "Some of the commonly used libraries used by Data Scientists include:\n",
    "+ Python:\n",
    "1. Pandas\n",
    "2. Numpy\n",
    "3. Matplotlib\n",
    "4. Seaborn\n",
    "5. Scikit-learn\n",
    "+ R:\n",
    "1. dplyr (data manipulation)\n",
    "2. stringr (string manipulation)\n",
    "3. ggplot (data visualization)\n",
    "4. caret (machine learning)"
   ]
  },
  {
   "cell_type": "markdown",
   "id": "e0177925-9279-4301-a8ae-88dca4a121c4",
   "metadata": {},
   "source": [
    "|Data Science Tools|\n",
    "|-----------------|\n",
    "|Jupyter Notebook|\n",
    "|RStudio|\n",
    "|Pycharm|\n",
    "|Visual Studio Code|"
   ]
  },
  {
   "cell_type": "markdown",
   "id": "bd938062-b6b1-4f20-94c7-7a5666b667d6",
   "metadata": {},
   "source": [
    "### Below are a few examples of evaluating arithmetic expressions in Python"
   ]
  },
  {
   "cell_type": "code",
   "execution_count": 6,
   "id": "3cedfd7d-cce9-4284-a843-3d8ac3e6b084",
   "metadata": {},
   "outputs": [
    {
     "data": {
      "text/plain": [
       "17"
      ]
     },
     "execution_count": 6,
     "metadata": {},
     "output_type": "execute_result"
    }
   ],
   "source": [
    "# This a simple arithmetic expression to mutiply then add integers\n",
    "# Note that arithmetic expression in python follow the PEMDAS\n",
    "(3*4)+5"
   ]
  },
  {
   "cell_type": "code",
   "execution_count": 10,
   "id": "16cad711-d7c7-44eb-8dab-a13a2b165885",
   "metadata": {},
   "outputs": [
    {
     "name": "stdout",
     "output_type": "stream",
     "text": [
      "3.3333333333333335 hours\n"
     ]
    }
   ],
   "source": [
    "#This will convert 200 minutes to hours by diving by 60\n",
    "time = \"200 minutes\"\n",
    "number = float(time.split()[0]) # this will split the text to ['200', 'minutes']\n",
    "new_time = str(number/60) + \" hours\"\n",
    "print(new_time)"
   ]
  },
  {
   "cell_type": "markdown",
   "id": "96e873bc-294f-4593-8b7b-f31df28485a7",
   "metadata": {},
   "source": [
    "## Author\n",
    "William Lim"
   ]
  }
 ],
 "metadata": {
  "kernelspec": {
   "display_name": "Python 3 (ipykernel)",
   "language": "python",
   "name": "python3"
  },
  "language_info": {
   "codemirror_mode": {
    "name": "ipython",
    "version": 3
   },
   "file_extension": ".py",
   "mimetype": "text/x-python",
   "name": "python",
   "nbconvert_exporter": "python",
   "pygments_lexer": "ipython3",
   "version": "3.13.5"
  }
 },
 "nbformat": 4,
 "nbformat_minor": 5
}
